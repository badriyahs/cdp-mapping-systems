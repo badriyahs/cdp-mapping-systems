{
 "cells": [
  {
   "cell_type": "markdown",
   "metadata": {},
   "source": [
    "# 02: Geoprocessing\n"
   ]
  },
  {
   "cell_type": "markdown",
   "metadata": {},
   "source": [
    "## imports\n"
   ]
  },
  {
   "cell_type": "code",
   "execution_count": null,
   "metadata": {},
   "outputs": [],
   "source": [
    "import pyogrio as ogr\n",
    "import matplotlib.pyplot as plt\n",
    "from shapely.geometry import Polygon\n",
    "import geopandas as gpd\n",
    "from lonboard import Map, PolygonLayer\n",
    "from lonboard.colormap import apply_categorical_cmap\n",
    "\n",
    "# done\n",
    "# spatial join\n",
    "# buildings to tax lots\n",
    "# buildings in 3d with lonboard\n",
    "# dissolve tax lot by lu or by owner\n",
    "\n",
    "# not done\n",
    "# union tax lots and sidewalk to get blocks in total\n",
    "# intersect to show non-building area\n",
    "# calculate soft site potential based on FAR, lot size, building class"
   ]
  },
  {
   "cell_type": "code",
   "execution_count": null,
   "metadata": {},
   "outputs": [],
   "source": [
    "import pyogrio as ogr\n",
    "import matplotlib.pyplot as plt\n",
    "from shapely.geometry import Polygon\n",
    "import geopandas as gpd\n",
    "from lonboard import Map, PolygonLayer\n",
    "from lonboard.colormap import apply_categorical_cmap\n"
   ]
  },
  {
   "cell_type": "code",
   "execution_count": null,
   "metadata": {},
   "outputs": [],
   "source": []
  },
  {
   "cell_type": "code",
   "execution_count": null,
   "metadata": {},
   "outputs": [],
   "source": [
    "cb_307 = gpd.read_file(\n",
    "    \"../Data/nyc_mappluto_24v1_1_shp/MapPLUTO.shp\"\n",
    ")\n"
   ]
  },
  {
   "cell_type": "code",
   "execution_count": null,
   "metadata": {},
   "outputs": [],
   "source": [
    "cb_307 = gpd.read_file(\n",
    "    \"../Data/nyc_mappluto_24v1_1_shp/MapPLUTO.shp\"\n",
    ")\n",
    "cb_307 = cb_307[cb_307['CD'] == 307]\n",
    "cb_307.plot()"
   ]
  },
  {
   "cell_type": "code",
   "execution_count": null,
   "metadata": {},
   "outputs": [],
   "source": [
    "# get maximum bounding geometry for all tax lots\n",
    "bounds = cb_307.total_bounds"
   ]
  },
  {
   "cell_type": "code",
   "execution_count": null,
   "metadata": {},
   "outputs": [],
   "source": [
    "bounds_poly = gpd.GeoSeries(\n",
    "    Polygon(\n",
    "        [\n",
    "            [bounds[0], bounds[1]],\n",
    "            [bounds[0], bounds[3]],\n",
    "            [bounds[2], bounds[3]],\n",
    "            [bounds[2], bounds[1]],\n",
    "            [bounds[0], bounds[1]],\n",
    "        ]\n",
    "    )\n",
    ")"
   ]
  },
  {
   "cell_type": "code",
   "execution_count": null,
   "metadata": {},
   "outputs": [],
   "source": [
    "ax = cb_307.plot()\n",
    "bounds_poly.boundary.plot(ax=ax, color=\"black\").set_axis_off()"
   ]
  },
  {
   "cell_type": "code",
   "execution_count": null,
   "metadata": {},
   "outputs": [],
   "source": [
    "bounds_poly"
   ]
  },
  {
   "cell_type": "code",
   "execution_count": null,
   "metadata": {},
   "outputs": [],
   "source": [
    "bounds_poly.crs = cb_307.crs"
   ]
  },
  {
   "cell_type": "code",
   "execution_count": null,
   "metadata": {},
   "outputs": [],
   "source": [
    "bounds_poly.crs"
   ]
  },
  {
   "cell_type": "markdown",
   "metadata": {},
   "source": [
    "## reproject\n"
   ]
  },
  {
   "cell_type": "code",
   "execution_count": null,
   "metadata": {},
   "outputs": [],
   "source": [
    "bounds_poly_wgs84 = bounds_poly.to_crs(\"EPSG:4326\")"
   ]
  },
  {
   "cell_type": "code",
   "execution_count": null,
   "metadata": {},
   "outputs": [],
   "source": [
    "cb_307_bldgs = ogr.read_dataframe(\n",
    "    \"../Data/bldg_footprints/Building Footprints.geojson\",\n",
    "    mask=bounds_poly_wgs84[0],\n",
    ")"
   ]
  },
  {
   "cell_type": "code",
   "execution_count": null,
   "metadata": {},
   "outputs": [],
   "source": [
    "cb_307_bldgs.plot()"
   ]
  },
  {
   "cell_type": "code",
   "execution_count": null,
   "metadata": {},
   "outputs": [],
   "source": [
    "cb_307_bldgs = cb_307_bldgs[cb_307_bldgs.geometry.type != \"Point\"]"
   ]
  },
  {
   "cell_type": "code",
   "execution_count": null,
   "metadata": {},
   "outputs": [],
   "source": [
    "cb_307_bldgs.plot()"
   ]
  },
  {
   "cell_type": "code",
   "execution_count": null,
   "metadata": {},
   "outputs": [],
   "source": [
    "cb_307_bldgs = cb_307_bldgs.to_crs(cb_307.crs)"
   ]
  },
  {
   "cell_type": "markdown",
   "metadata": {},
   "source": [
    "## spatial join\n"
   ]
  },
  {
   "cell_type": "code",
   "execution_count": null,
   "metadata": {},
   "outputs": [],
   "source": [
    "cb_307_bldgs[\"rep_pt\"] = cb_307_bldgs.representative_point()\n",
    "cb_307_bldgs.set_geometry(\"rep_pt\", inplace=True)"
   ]
  },
  {
   "cell_type": "code",
   "execution_count": null,
   "metadata": {},
   "outputs": [],
   "source": [
    "cb_307_bldgs.base_bbl.nunique(), cb_307_bldgs.shape[0], cb_307_bldgs.globalid.nunique()"
   ]
  },
  {
   "cell_type": "code",
   "execution_count": null,
   "metadata": {},
   "outputs": [],
   "source": [
    "cb_307_bldgs"
   ]
  },
  {
   "cell_type": "code",
   "execution_count": null,
   "metadata": {},
   "outputs": [],
   "source": [
    "gpd.__version__"
   ]
  },
  {
   "cell_type": "code",
   "execution_count": null,
   "metadata": {},
   "outputs": [],
   "source": [
    "## spatial join buildings to tax lots based on building representative point\n",
    "bldgs_w_lot = cb_307_bldgs[[\"globalid\", \"mpluto_bbl\", \"rep_pt\"]].sjoin(\n",
    "    cb_307, how=\"inner\", predicate=\"within\"\n",
    ")"
   ]
  },
  {
   "cell_type": "code",
   "execution_count": null,
   "metadata": {},
   "outputs": [],
   "source": [
    "bldgs_w_lot_nearest = cb_307_bldgs[[\"globalid\", \"mpluto_bbl\", \"rep_pt\"]].sjoin_nearest(\n",
    "    cb_307, how=\"left\", distance_col=\"distance\"\n",
    ")"
   ]
  },
  {
   "cell_type": "code",
   "execution_count": null,
   "metadata": {},
   "outputs": [],
   "source": [
    "bldgs_w_lot_nearest.plot(\"distance\", legend=True)"
   ]
  },
  {
   "cell_type": "code",
   "execution_count": null,
   "metadata": {},
   "outputs": [],
   "source": [
    "ax = cb_307.plot()\n",
    "bldgs_w_lot.plot(ax=ax, color=\"red\", alpha=0.5)"
   ]
  },
  {
   "cell_type": "code",
   "execution_count": null,
   "metadata": {},
   "outputs": [],
   "source": [
    "## drop cases where there is no match (i.e. no tax lot for buildings)"
   ]
  },
  {
   "cell_type": "code",
   "execution_count": null,
   "metadata": {},
   "outputs": [],
   "source": [
    "# now, join back to original building footprints\n",
    "bldgs_w_lot = bldgs_w_lot.drop(columns=[\"rep_pt\"]).merge(\n",
    "    cb_307_bldgs, on=\"globalid\", how=\"left\"\n",
    ")"
   ]
  },
  {
   "cell_type": "code",
   "execution_count": null,
   "metadata": {},
   "outputs": [],
   "source": [
    "bldgs_w_lot_gdf = ogr.read_dataframe(\"../Data/nyc_mappluto_24v1_1_shp/MapPLUTO.shp\")"
   ]
  },
  {
   "cell_type": "code",
   "execution_count": null,
   "metadata": {},
   "outputs": [],
   "source": [
    "bldgs_w_lot_gdf['LandUse'].unique()"
   ]
  },
  {
   "cell_type": "code",
   "execution_count": null,
   "metadata": {},
   "outputs": [],
   "source": [
    "bldgs_w_lot_gdf[\"LandUse\"].fillna(\"Unknown\", inplace=True)"
   ]
  },
  {
   "cell_type": "code",
   "execution_count": null,
   "metadata": {},
   "outputs": [],
   "source": [
    "bldgs_w_lot_gdf.LandUse"
   ]
  },
  {
   "cell_type": "code",
   "execution_count": null,
   "metadata": {},
   "outputs": [],
   "source": [
    "print(bldgs_w_lot_gdf['LandUse'].unique())"
   ]
  },
  {
   "cell_type": "code",
   "execution_count": null,
   "metadata": {},
   "outputs": [],
   "source": [
    "bldgs_w_lot_gdf[\"LandUse\"] = bldgs_w_lot_gdf[\"LandUse\"].map(land_use_codes)"
   ]
  },
  {
   "cell_type": "code",
   "execution_count": null,
   "metadata": {},
   "outputs": [],
   "source": [
    "bldgs_w_lot_gdf[\"color\"] = bldgs_w_lot_gdf[\"LandUse\"].map(cmap)"
   ]
  },
  {
   "cell_type": "code",
   "execution_count": null,
   "metadata": {},
   "outputs": [],
   "source": [
    "bldgs_w_lot_gdf[\"color\"]"
   ]
  },
  {
   "cell_type": "code",
   "execution_count": null,
   "metadata": {},
   "outputs": [],
   "source": [
    "print(bldgs_w_lot_gdf['LandUse'].unique())"
   ]
  },
  {
   "cell_type": "code",
   "execution_count": null,
   "metadata": {},
   "outputs": [],
   "source": [
    "bldgs_w_lot_gdf"
   ]
  },
  {
   "cell_type": "code",
   "execution_count": null,
   "metadata": {},
   "outputs": [],
   "source": [
    "bldgs_w_lot_gdf = gpd.GeoDataFrame(bldgs_w_lot, geometry=\"geometry\")"
   ]
  },
  {
   "cell_type": "code",
   "execution_count": null,
   "metadata": {},
   "outputs": [],
   "source": [
    "bldgs_w_lot_gdf['color'] = bldgs_w_lot_gdf['LandUse'].map(cmap)"
   ]
  },
  {
   "cell_type": "code",
   "execution_count": null,
   "metadata": {},
   "outputs": [],
   "source": [
    "land_use_codes = {\n",
    "    \"One & Two Family Buildings\": \"#ff0000\",\n",
    "    \"Multi-Family Walk-Up Buildings\": \"#00ff00\",\n",
    "    \"Multi-Family Elevator Buildings\": \"#0000ff\",\n",
    "    \"Mixed Residential & Commercial Buildings\": \"#ff00ff\",\n",
    "    \"Commercial & Office Buildings\": \"#00ffff\",\n",
    "    \"Industrial & Manufacturing\": \"#ffff00\",\n",
    "    \"Transportation & Utility\": \"#808080\",\n",
    "    \"Public Facilities & Institutions\": \"#800000\",\n",
    "    \"Open Space & Outdoor Recreation\": \"#008000\",\n",
    "    \"Parking Facilities\": \"#000080\",\n",
    "    \"Vacant Land\": \"#800080\",\n",
    "    \"Unknown\": \"#000000\",\n",
    "}"
   ]
  },
  {
   "cell_type": "code",
   "execution_count": null,
   "metadata": {},
   "outputs": [],
   "source": [
    "cmap_rgb = {k: list(int(v[i : i + 2], 16) for i in (1, 3, 5)) for k, v in cmap.items()}"
   ]
  },
  {
   "cell_type": "code",
   "execution_count": null,
   "metadata": {},
   "outputs": [],
   "source": [
    "print(bldgs_w_lot_gdf.columns)"
   ]
  },
  {
   "cell_type": "code",
   "execution_count": null,
   "metadata": {},
   "outputs": [],
   "source": [
    "mp[\"color\"]"
   ]
  },
  {
   "cell_type": "code",
   "execution_count": null,
   "metadata": {},
   "outputs": [],
   "source": [
    "bldgs_w_lot_gdf.plot(column=\"color\", legend=False).set_axis_off()\n"
   ]
  },
  {
   "cell_type": "code",
   "execution_count": null,
   "metadata": {},
   "outputs": [],
   "source": [
    "bldgs_w_lot_gdf.fillna({\"LandUse\": \"Unknown\"}, inplace=True)"
   ]
  },
  {
   "cell_type": "code",
   "execution_count": null,
   "metadata": {},
   "outputs": [],
   "source": [
    "cmap_rgb"
   ]
  },
  {
   "cell_type": "code",
   "execution_count": null,
   "metadata": {},
   "outputs": [],
   "source": [
    "# make a lonboard plot with color based on land use and height based on number of floors\n",
    "heights = bldgs_w_lot_gdf[\"heightroof\"].astype(float).to_numpy()\n",
    "bldgs_layer = PolygonLayer.from_geopandas(\n",
    "    bldgs_w_lot_gdf[[\"geometry\", \"LandUse\"]],\n",
    "    get_fill_color=apply_categorical_cmap(bldgs_w_lot_gdf[\"LandUse\"], cmap=cmap_rgb),\n",
    "    extruded=True,\n",
    "    get_elevation=heights,\n",
    ")\n",
    "\n",
    "m = Map(\n",
    "    [bldgs_layer],\n",
    "    view_state={\n",
    "        \"pitch\": 45,\n",
    "        \"zoom\": 14,\n",
    "        \"latitude\": 40.6459406,\n",
    "        \"longitude\": -74.0151512,\n",
    "    },\n",
    ")\n",
    "m"
   ]
  },
  {
   "cell_type": "markdown",
   "metadata": {},
   "source": [
    "## attribute join\n"
   ]
  },
  {
   "cell_type": "markdown",
   "metadata": {},
   "source": [
    "... sometimes it makes more sense to join based on attributes rather than spatial relationships. This is one of those cases.\n"
   ]
  },
  {
   "cell_type": "code",
   "execution_count": null,
   "metadata": {},
   "outputs": [],
   "source": [
    "cb_307_bldgs.mpluto_bbl.nunique(), cb_307.shape"
   ]
  },
  {
   "cell_type": "code",
   "execution_count": null,
   "metadata": {},
   "outputs": [],
   "source": [
    "cb_307.columns"
   ]
  },
  {
   "cell_type": "code",
   "execution_count": null,
   "metadata": {},
   "outputs": [],
   "source": [
    "cb_307_bldgs.mpluto_bbl.dtype, cb_307.BBL.dtype"
   ]
  },
  {
   "cell_type": "code",
   "execution_count": null,
   "metadata": {},
   "outputs": [],
   "source": [
    "cb_307_bldgs[\"mpluto_bbl\"] = cb_307_bldgs[\"mpluto_bbl\"].astype(float)"
   ]
  },
  {
   "cell_type": "code",
   "execution_count": null,
   "metadata": {},
   "outputs": [],
   "source": [
    "bldgs_w_lot_attrib = cb_307_bldgs.merge(\n",
    "    cb_307, left_on=\"mpluto_bbl\", right_on=\"BBL\", how=\"inner\"\n",
    ")"
   ]
  },
  {
   "cell_type": "code",
   "execution_count": null,
   "metadata": {},
   "outputs": [],
   "source": [
    "# assert bldgs_w_lot_attrib.shape == bldgs_w_lot_gdf.shape\n",
    "bldgs_w_lot_attrib.shape == bldgs_w_lot_gdf.shape"
   ]
  },
  {
   "cell_type": "code",
   "execution_count": null,
   "metadata": {},
   "outputs": [],
   "source": [
    "# find the globalid of the buildings in bldgs_w_lot_attrib that are not in bldgs_w_lot_gdf\n",
    "ax = bldgs_w_lot_attrib.plot()\n",
    "bldgs_w_lot_attrib[~bldgs_w_lot_attrib.globalid.isin(bldgs_w_lot_gdf.globalid)].plot(\n",
    "    ax=ax, color=\"red\"\n",
    ")"
   ]
  },
  {
   "cell_type": "code",
   "execution_count": null,
   "metadata": {},
   "outputs": [],
   "source": [
    "missing_buildings = bldgs_w_lot_attrib[\n",
    "    ~bldgs_w_lot_attrib.globalid.isin(bldgs_w_lot_gdf.globalid)\n",
    "].globalid.unique()"
   ]
  },
  {
   "cell_type": "code",
   "execution_count": null,
   "metadata": {},
   "outputs": [],
   "source": [
    "bldgs_w_lot_attrib[\"geometry\"] = bldgs_w_lot_attrib[\"geometry_x\"]"
   ]
  },
  {
   "cell_type": "code",
   "execution_count": null,
   "metadata": {},
   "outputs": [],
   "source": [
    "bldgs_w_lot_attrib.set_geometry(\"geometry\", inplace=True)"
   ]
  },
  {
   "cell_type": "markdown",
   "metadata": {},
   "source": [
    "### investigate- what's going on??\n"
   ]
  },
  {
   "cell_type": "code",
   "execution_count": null,
   "metadata": {},
   "outputs": [],
   "source": [
    "# make a lonboard plot with color based on land use and height based on number of floors\n",
    "\n",
    "missing_bldgs = bldgs_w_lot_attrib[bldgs_w_lot_attrib.globalid.isin(missing_buildings)]\n",
    "\n",
    "heights_missing = missing_bldgs[\"heightroof\"].astype(float).to_numpy()\n",
    "\n",
    "lots_layer = PolygonLayer.from_geopandas(\n",
    "    cb_307[[\"geometry\", \"LandUse\"]],\n",
    "    get_fill_color=apply_categorical_cmap(cb_307[\"LandUse\"], cmap=cmap_rgb),\n",
    ")\n",
    "\n",
    "missing_bldgs_layer = PolygonLayer.from_geopandas(\n",
    "    missing_bldgs[[\"geometry\", \"LandUse\"]],\n",
    "    get_fill_color=[255, 0, 0, 155],\n",
    "    extruded=True,\n",
    "    get_elevation=heights_missing,\n",
    ")\n",
    "\n",
    "m = Map(\n",
    "    [missing_bldgs_layer, lots_layer],\n",
    "    view_state={\n",
    "        \"pitch\": 45,\n",
    "        \"zoom\": 14,\n",
    "        \"latitude\": 40.6459406,\n",
    "        \"longitude\": -74.0151512,\n",
    "    },\n",
    ")\n",
    "m"
   ]
  },
  {
   "cell_type": "markdown",
   "metadata": {},
   "source": [
    "So we can see that there are three cases where buildings are associated with lots, even if their representative point (or entire geometry) fall outside of the actual polygon.\n"
   ]
  },
  {
   "cell_type": "markdown",
   "metadata": {},
   "source": [
    "## dissolve\n"
   ]
  },
  {
   "cell_type": "markdown",
   "metadata": {},
   "source": [
    "Learn more about dissolve here: https://geopandas.org/en/stable/docs/user_guide/aggregation_with_dissolve.html\n"
   ]
  },
  {
   "cell_type": "code",
   "execution_count": null,
   "metadata": {},
   "outputs": [],
   "source": [
    "cb_307_by_owner = cb_307.dissolve(\n",
    "    by=\"OwnerName\",\n",
    "    aggfunc={\n",
    "        \"LandUse\": list,\n",
    "        \"LotArea\": \"sum\",\n",
    "    },\n",
    ").reset_index()"
   ]
  },
  {
   "cell_type": "code",
   "execution_count": null,
   "metadata": {},
   "outputs": [],
   "source": [
    "fig, ax = plt.subplots()\n",
    "cb_307.plot(color=\"#cecece\", ax=ax, alpha=0.5)\n",
    "\n",
    "cb_307_by_owner.sort_values(\"LotArea\", ascending=False).head(10).plot(\n",
    "    column=\"OwnerName\", legend=True, ax=ax\n",
    ").set_axis_off()\n",
    "\n",
    "\n",
    "# get legend item\n",
    "leg = ax.get_legend()\n",
    "leg.set_bbox_to_anchor((1.0, 0.0, 0.5, 0.2))\n",
    "ax.set_title(\"Top 10 Owners by Lot Area\")\n",
    "# put legend off the plot\n",
    "# cb_307_by_owner.plot(column=\"OwnerName\", legend=False)"
   ]
  },
  {
   "cell_type": "code",
   "execution_count": null,
   "metadata": {},
   "outputs": [],
   "source": [
    "cb_307_by_owner"
   ]
  },
  {
   "cell_type": "markdown",
   "metadata": {},
   "source": [
    "## Intersect / Difference\n"
   ]
  },
  {
   "cell_type": "code",
   "execution_count": null,
   "metadata": {},
   "outputs": [],
   "source": [
    "sample_block = cb_307.Block.sample(1).values[0]"
   ]
  },
  {
   "cell_type": "code",
   "execution_count": null,
   "metadata": {},
   "outputs": [],
   "source": [
    "sample_block"
   ]
  },
  {
   "cell_type": "code",
   "execution_count": null,
   "metadata": {},
   "outputs": [],
   "source": [
    "cb_307_bldgs.columns"
   ]
  },
  {
   "cell_type": "code",
   "execution_count": null,
   "metadata": {},
   "outputs": [],
   "source": [
    "sample_block_lots = cb_307[cb_307.Block.eq(sample_block)].copy()\n",
    "sample_block_bldgs = cb_307_bldgs[\n",
    "    cb_307_bldgs.mpluto_bbl.isin(sample_block_lots.BBL.unique())\n",
    "].copy()"
   ]
  },
  {
   "cell_type": "code",
   "execution_count": null,
   "metadata": {},
   "outputs": [],
   "source": [
    "sample_block_bldgs.set_geometry(\"geometry\", inplace=True)"
   ]
  },
  {
   "cell_type": "code",
   "execution_count": null,
   "metadata": {},
   "outputs": [],
   "source": [
    "ax = sample_block_lots.boundary.plot(color=\"black\", linewidth=0.5)\n",
    "sample_block_bldgs.plot(ax=ax, color=\"red\").set_axis_off()\n",
    "\n",
    "ax.set_title(f\"Block {sample_block}\")"
   ]
  },
  {
   "cell_type": "code",
   "execution_count": null,
   "metadata": {},
   "outputs": [],
   "source": [
    "sample_block_non_bldg = sample_block_lots.difference(sample_block_bldgs.unary_union)"
   ]
  },
  {
   "cell_type": "code",
   "execution_count": null,
   "metadata": {},
   "outputs": [],
   "source": [
    "sample_block_non_bldg.shape"
   ]
  },
  {
   "cell_type": "code",
   "execution_count": null,
   "metadata": {},
   "outputs": [],
   "source": [
    "ax = sample_block_lots.boundary.plot(color=\"black\", linewidth=0.5)\n",
    "sample_block_non_bldg.plot(ax=ax)\n",
    "sample_block_bldgs.plot(ax=ax, color=\"orange\").set_axis_off()"
   ]
  },
  {
   "cell_type": "code",
   "execution_count": null,
   "metadata": {},
   "outputs": [],
   "source": [
    "sample_block_non_bldg_intersect = sample_block_lots.intersection(\n",
    "    sample_block_bldgs.unary_union\n",
    ")"
   ]
  },
  {
   "cell_type": "code",
   "execution_count": null,
   "metadata": {},
   "outputs": [],
   "source": [
    "sample_block_non_bldg_intersect.shape"
   ]
  },
  {
   "cell_type": "code",
   "execution_count": null,
   "metadata": {},
   "outputs": [],
   "source": [
    "sample_block_non_bldg_intersect.plot()"
   ]
  },
  {
   "cell_type": "markdown",
   "metadata": {},
   "source": [
    "## Union\n"
   ]
  },
  {
   "cell_type": "code",
   "execution_count": null,
   "metadata": {},
   "outputs": [],
   "source": [
    "sample_block_lots[\"lot_area\"] = sample_block_lots.area"
   ]
  },
  {
   "cell_type": "code",
   "execution_count": null,
   "metadata": {},
   "outputs": [],
   "source": [
    "lots_bldgs_union = gpd.overlay(sample_block_lots, sample_block_bldgs, how=\"union\")"
   ]
  },
  {
   "cell_type": "code",
   "execution_count": null,
   "metadata": {},
   "outputs": [],
   "source": [
    "lots_bldgs_union.shape"
   ]
  },
  {
   "cell_type": "code",
   "execution_count": null,
   "metadata": {},
   "outputs": [],
   "source": [
    "import pandas as pd"
   ]
  },
  {
   "cell_type": "code",
   "execution_count": null,
   "metadata": {},
   "outputs": [],
   "source": [
    "lots_bldgs_union"
   ]
  },
  {
   "cell_type": "code",
   "execution_count": null,
   "metadata": {},
   "outputs": [],
   "source": [
    "ax = lots_bldgs_union[lots_bldgs_union.globalid.isna()].plot(color=\"#cecece\")\n",
    "lots_bldgs_union[lots_bldgs_union.globalid.notna()].plot(ax=ax, color=\"red\")"
   ]
  },
  {
   "cell_type": "code",
   "execution_count": null,
   "metadata": {},
   "outputs": [],
   "source": [
    "ax = lots_bldgs_union[lots_bldgs_union.globalid.isna()].plot(\"Lot\")\n",
    "lots_bldgs_union[lots_bldgs_union.globalid.notna()].plot(\"Lot\", ax=ax)\n",
    "lots_bldgs_union.boundary.plot(color=\"black\", ax=ax, linewidth=0.5).set_axis_off()"
   ]
  },
  {
   "cell_type": "code",
   "execution_count": null,
   "metadata": {},
   "outputs": [],
   "source": [
    "lots_bldgs_union.globalid.unique()"
   ]
  },
  {
   "cell_type": "code",
   "execution_count": null,
   "metadata": {},
   "outputs": [],
   "source": [
    "lots_bldgs_union[\"pct_bldg_lot_coverage\"] = lots_bldgs_union.apply(\n",
    "    lambda x: ((x.geometry.area / x.lot_area) * 100 if type(x.globalid) == str else -1),\n",
    "    axis=1,\n",
    ")"
   ]
  },
  {
   "cell_type": "code",
   "execution_count": null,
   "metadata": {},
   "outputs": [],
   "source": [
    "lots_bldgs_union.plot(\"pct_bldg_lot_coverage\", legend=True)"
   ]
  },
  {
   "cell_type": "markdown",
   "metadata": {},
   "source": [
    "## calculate soft sites (create new attributes)\n"
   ]
  },
  {
   "cell_type": "code",
   "execution_count": null,
   "metadata": {},
   "outputs": [],
   "source": [
    "def is_soft_site(r, threshold=0.33):\n",
    "    if (\n",
    "        r.BuiltFAR <= r.ResidFAR * threshold\n",
    "        and r.LotArea > 10000\n",
    "        and r.LandUse != \"Open Space & Outdoor Recreation\"\n",
    "        and r.ResidFAR > 0\n",
    "    ):\n",
    "        return 1\n",
    "    else:\n",
    "        return 0"
   ]
  },
  {
   "cell_type": "code",
   "execution_count": null,
   "metadata": {},
   "outputs": [],
   "source": [
    "cb_307[\"soft_site\"] = cb_307.apply(is_soft_site, axis=1)"
   ]
  },
  {
   "cell_type": "code",
   "execution_count": null,
   "metadata": {},
   "outputs": [],
   "source": [
    "cb_307[\"soft_site\"].value_counts()"
   ]
  },
  {
   "cell_type": "code",
   "execution_count": null,
   "metadata": {},
   "outputs": [],
   "source": [
    "cb_307.plot(\"soft_site\", legend=True)"
   ]
  },
  {
   "cell_type": "code",
   "execution_count": null,
   "metadata": {},
   "outputs": [],
   "source": [
    "cb_307[cb_307.soft_site.eq(1)][[\"soft_site\", \"BuiltFAR\", \"ResidFAR\"]]"
   ]
  }
 ],
 "metadata": {
  "kernelspec": {
   "display_name": "cdp",
   "language": "python",
   "name": "python3"
  },
  "language_info": {
   "codemirror_mode": {
    "name": "ipython",
    "version": 3
   },
   "file_extension": ".py",
   "mimetype": "text/x-python",
   "name": "python",
   "nbconvert_exporter": "python",
   "pygments_lexer": "ipython3",
   "version": "3.12.4"
  }
 },
 "nbformat": 4,
 "nbformat_minor": 2
}
